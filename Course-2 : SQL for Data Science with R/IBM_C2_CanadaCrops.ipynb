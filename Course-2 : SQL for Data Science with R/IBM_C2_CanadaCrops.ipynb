{
 "cells": [
  {
   "cell_type": "markdown",
   "metadata": {},
   "source": [
    "<center>\n",
    "    <img src=\"https://cf-courses-data.s3.us.cloud-object-storage.appdomain.cloud/assets/logos/SN_web_lightmode.png\" width=\"300\">\n",
    "</center>\n",
    "\n",
    "# Assignment: Notebook for Peer Assignment\n",
    "\n",
    "Estimated time needed: 45 minutes\n"
   ]
  },
  {
   "cell_type": "markdown",
   "metadata": {},
   "source": [
    "# Assignment Scenario\n",
    "\n",
    "Congratulations! You have just been hired by a US Venture Capital firm as a data analyst.\n",
    "\n",
    "The company is considering foreign grain markets to help meet its supply chain requirements for its recent investments in the microbrewery and microdistillery industry, which is involved with the production and distribution of craft beers and spirits.\n",
    "\n",
    "Your first task is to provide a high level analysis of crop production in Canada. Your stakeholders want to understand the current and historical performance of certain crop types in terms of supply and price volatility. For now they are mainly interested in a macro-view of Canada's crop farming industry, and how it relates to the relative value of the Canadian and US dollars.\n"
   ]
  },
  {
   "cell_type": "markdown",
   "metadata": {},
   "source": [
    "# Introduction\n",
    "\n",
    "Using this R notebook you will:\n",
    "\n",
    "1.  Understand four datasets\n",
    "2.  Load the datasets into four separate tables in a database\n",
    "3.  Execute SQL queries to answer assignment questions\n",
    "\n",
    "You have already encountered two of these datasets in the previous practice lab. You will be able to reuse much of the work you did there to prepare your database tables for executing SQL queries.\n"
   ]
  },
  {
   "cell_type": "markdown",
   "metadata": {},
   "source": [
    "# Understand the datasets\n",
    "\n",
    "To complete the assignment problems in this notebook you will be using subsetted snapshots of two datasets from Statistics Canada, and one from the Bank of Canada. The links to the prepared datasets are provided in the next section; the interested student can explore the landing pages for the source datasets as follows:\n",
    "\n",
    "1.  <a href=\"https://www150.statcan.gc.ca/t1/tbl1/en/tv.action?utm_medium=Exinfluencer&utm_source=Exinfluencer&utm_content=000026UJ&utm_term=10006555&utm_id=NA-SkillsNetwork-Channel-SkillsNetworkCoursesIBMRP0203ENSkillsNetwork23863830-2021-01-01&pid=3210035901\">Canadian Principal Crops (Data & Metadata)</a>\n",
    "2.  <a href=\"https://www150.statcan.gc.ca/t1/tbl1/en/tv.action?utm_medium=Exinfluencer&utm_source=Exinfluencer&utm_content=000026UJ&utm_term=10006555&utm_id=NA-SkillsNetwork-Channel-SkillsNetworkCoursesIBMRP0203ENSkillsNetwork23863830-2021-01-01&pid=3210007701\">Farm product prices (Data & Metadata)</a>\n",
    "3.  <a href=\"https://www.bankofcanada.ca/rates/exchange/daily-exchange-rates?utm_medium=Exinfluencer&utm_source=Exinfluencer&utm_content=000026UJ&utm_term=10006555&utm_id=NA-SkillsNetwork-Channel-SkillsNetworkCoursesIBMRP0203ENSkillsNetwork23863830-2021-01-01\">Bank of Canada daily average exchange rates</a>\n",
    "\n",
    "### 1. Canadian Principal Crops Data \\*\n",
    "\n",
    "This dataset contains agricultural production measures for the principle crops grown in Canada, including a breakdown by province and teritory, for each year from 1908 to 2020.\n",
    "\n",
    "For this assignment you will use a preprocessed snapshot of this dataset (see below).\n",
    "\n",
    "A detailed description of this dataset can be obtained from the StatsCan Data Portal at:\n",
    "[https://www150.statcan.gc.ca/t1/tbl1/en/tv.action?pid=3210035901](https://www150.statcan.gc.ca/t1/tbl1/en/tv.action?utm_medium=Exinfluencer&utm_source=Exinfluencer&utm_content=000026UJ&utm_term=10006555&utm_id=NA-SkillsNetwork-Channel-SkillsNetworkCoursesIBMRP0203ENSkillsNetwork23863830-2021-01-01&pid=3210035901)\\\n",
    "Detailed information is included in the metadata file and as header text in the data file, which can be downloaded - look for the 'download options' link.\n",
    "\n",
    "### 2. Farm product prices\n",
    "\n",
    "This dataset contains monthly average farm product prices for Canadian crops and livestock by province and teritory, from 1980 to 2020 (or 'last year', whichever is greatest).\n",
    "\n",
    "For this assignment you will use a preprocessed snapshot of this dataset (see below).\n",
    "\n",
    "A description of this dataset can be obtained from the StatsCan Data Portal at:\n",
    "[https://www150.statcan.gc.ca/t1/tbl1/en/tv.action?pid=3210007701](https://www150.statcan.gc.ca/t1/tbl1/en/tv.action?utm_medium=Exinfluencer&utm_source=Exinfluencer&utm_content=000026UJ&utm_term=10006555&utm_id=NA-SkillsNetwork-Channel-SkillsNetworkCoursesIBMRP0203ENSkillsNetwork23863830-2021-01-01&pid=3210007701)\n",
    "The information is included in the metadata file, which can be downloaded - look for the 'download options' link.\n",
    "\n",
    "### 3. Bank of Canada daily average exchange rates \\*\n",
    "\n",
    "This dataset contains the daily average exchange rates for multiple foreign currencies. Exchange rates are expressed as 1 unit of the foreign currency converted into Canadian dollars. It includes only the latest four years of data, and the rates are published once each business day by 16:30 ET.\n",
    "\n",
    "For this assignment you will use a snapshot of this dataset with only the USD-CAD exchange rates included (see next section). We have also prepared a monthly averaged version which you will be using below.\n",
    "\n",
    "A brief description of this dataset and the original dataset can be obtained from the Bank of Canada Data Portal at:\n",
    "[https://www.bankofcanada.ca/rates/exchange/daily-exchange-rates/](https://www.bankofcanada.ca/rates/exchange/daily-exchange-rates/?utm_medium=Exinfluencer&utm_source=Exinfluencer&utm_content=000026UJ&utm_term=10006555&utm_id=NA-SkillsNetwork-Channel-SkillsNetworkCoursesIBMRP0203ENSkillsNetwork23863830-2021-01-01)\n",
    "\n",
    "( \\* these datasets are the same as the ones you used in the practice lab)\n"
   ]
  },
  {
   "cell_type": "markdown",
   "metadata": {},
   "source": [
    "### Dataset URLs\n",
    "\n",
    "1.  Annual Crop Data: <https://cf-courses-data.s3.us.cloud-object-storage.appdomain.cloud/IBM-RP0203EN-SkillsNetwork/labs/Final%20Project/Annual_Crop_Data.csv>\n",
    "\n",
    "2.  Farm product prices: <https://cf-courses-data.s3.us.cloud-object-storage.appdomain.cloud/IBM-RP0203EN-SkillsNetwork/labs/Final%20Project/Monthly_Farm_Prices.csv>\n",
    "\n",
    "3.  Daily FX Data: <https://cf-courses-data.s3.us.cloud-object-storage.appdomain.cloud/IBM-RP0203EN-SkillsNetwork/labs/Final%20Project/Daily_FX.csv>\n",
    "\n",
    "4.  Monthly FX Data: <https://cf-courses-data.s3.us.cloud-object-storage.appdomain.cloud/IBM-RP0203EN-SkillsNetwork/labs/Final%20Project/Monthly_FX.csv>\n",
    "\n",
    "<span style=\"color:red\">**IMPORTANT:**</span> You will be loading these datasets directly into R data frames from these URLs instead of from the StatsCan and Bank of Canada portals. The versions provided at these URLs are simplified and subsetted versions of the original datasets.\n"
   ]
  },
  {
   "cell_type": "markdown",
   "metadata": {},
   "source": [
    "#### Now let's load these datasets into four separate tables.\n",
    "\n",
    "Let's first load the RSQLite package:\n"
   ]
  },
  {
   "cell_type": "code",
   "execution_count": 1,
   "metadata": {
    "tags": []
   },
   "outputs": [
    {
     "name": "stderr",
     "output_type": "stream",
     "text": [
      "also installing the dependencies ‘fastmap’, ‘bit’, ‘rlang’, ‘cachem’, ‘bit64’, ‘blob’, ‘DBI’, ‘memoise’, ‘cpp11’\n",
      "\n",
      "Updating HTML index of packages in '.Library'\n",
      "Making 'packages.html' ... done\n"
     ]
    }
   ],
   "source": [
    "install.packages(c('RSQLite'), repos = 'https://cran.rstudio.com',dependecies=TRUE)"
   ]
  },
  {
   "cell_type": "markdown",
   "metadata": {},
   "source": [
    "#### Restart Kernel\n",
    "\n",
    "After installing the RSQLite package, it is necessary to restart R Kernel. Click **Kernel** > **Restart Kernel** from the main menu. This will register the newly installed packages. Now proceed to load the RSQLite package. \n"
   ]
  },
  {
   "cell_type": "code",
   "execution_count": 50,
   "metadata": {
    "tags": []
   },
   "outputs": [],
   "source": [
    "library(\"RSQLite\")"
   ]
  },
  {
   "cell_type": "markdown",
   "metadata": {},
   "source": [
    "## Problem 1\n",
    "\n",
    "#### Create tables\n",
    "\n",
    "Establish a connection **conn** to the RSQLite database **FinalDB.sqlite**, and create the following four tables.\n",
    "\n",
    "1.  **CROP_DATA**\n",
    "2.  **FARM_PRICES**\n",
    "3.  **DAILY_FX**\n",
    "4.  **MONTHLY_FX**\n",
    "\n",
    "The previous practice lab will help you accomplish this.\n"
   ]
  },
  {
   "cell_type": "code",
   "execution_count": 51,
   "metadata": {
    "tags": []
   },
   "outputs": [
    {
     "data": {
      "text/html": [
       "0"
      ],
      "text/latex": [
       "0"
      ],
      "text/markdown": [
       "0"
      ],
      "text/plain": [
       "[1] 0"
      ]
     },
     "metadata": {},
     "output_type": "display_data"
    },
    {
     "data": {
      "text/html": [
       "0"
      ],
      "text/latex": [
       "0"
      ],
      "text/markdown": [
       "0"
      ],
      "text/plain": [
       "[1] 0"
      ]
     },
     "metadata": {},
     "output_type": "display_data"
    },
    {
     "data": {
      "text/html": [
       "0"
      ],
      "text/latex": [
       "0"
      ],
      "text/markdown": [
       "0"
      ],
      "text/plain": [
       "[1] 0"
      ]
     },
     "metadata": {},
     "output_type": "display_data"
    },
    {
     "data": {
      "text/html": [
       "0"
      ],
      "text/latex": [
       "0"
      ],
      "text/markdown": [
       "0"
      ],
      "text/plain": [
       "[1] 0"
      ]
     },
     "metadata": {},
     "output_type": "display_data"
    }
   ],
   "source": [
    "# Write your query here\n",
    "library(DBI)\n",
    "library(RSQLite)\n",
    "\n",
    "# Establish connection to the SQLite database\n",
    "conn <- dbConnect(RSQLite::SQLite(), \"FinalDB.sqlite\")\n",
    "\n",
    "# Create the CROP_DATA table\n",
    "dbExecute(conn, \n",
    "           \"CREATE TABLE IF NOT EXISTS CROP_DATA (\n",
    "             CD_ID INTEGER PRIMARY KEY,\n",
    "             YEAR DATE NOT NULL,\n",
    "             CROP_TYPE VARCHAR(20) NOT NULL,\n",
    "             GEO VARCHAR(20) NOT NULL, \n",
    "             SEEDED_AREA INTEGER NOT NULL,\n",
    "             HARVESTED_AREA INTEGER NOT NULL,\n",
    "             PRODUCTION INTEGER NOT NULL,\n",
    "             AVG_YIELD INTEGER NOT NULL\n",
    "           )\")\n",
    "\n",
    "# Create the FARM_PRICES table\n",
    "dbExecute(conn, \n",
    "           \"CREATE TABLE IF NOT EXISTS FARM_PRICES (\n",
    "             FP_ID INTEGER PRIMARY KEY,\n",
    "             DATE DATE NOT NULL,\n",
    "             CROP_TYPE VARCHAR(20) NOT NULL,\n",
    "             GEO VARCHAR(20) NOT NULL,\n",
    "             PRICE FLOAT NOT NULL\n",
    "           )\")\n",
    "\n",
    "# Create the DAILY_FX table\n",
    "dbExecute(conn, \n",
    "           \"CREATE TABLE IF NOT EXISTS DAILY_FX (\n",
    "             DFX_ID INTEGER PRIMARY KEY,\n",
    "             DATE DATE NOT NULL,\n",
    "             FXUSDCAD FLOAT NOT NULL\n",
    "           )\")\n",
    "\n",
    "# Create the MONTHLY_FX table\n",
    "dbExecute(conn, \n",
    "           \"CREATE TABLE IF NOT EXISTS MONTHLY_FX (\n",
    "             MFX_ID INTEGER PRIMARY KEY,\n",
    "             YEAR INTEGER NOT NULL,\n",
    "             MONTH INTEGER NOT NULL,\n",
    "             FXUSDCAD FLOAT NOT NULL\n",
    "           )\")"
   ]
  },
  {
   "cell_type": "code",
   "execution_count": 52,
   "metadata": {
    "tags": []
   },
   "outputs": [
    {
     "data": {
      "text/html": [
       "<style>\n",
       ".list-inline {list-style: none; margin:0; padding: 0}\n",
       ".list-inline>li {display: inline-block}\n",
       ".list-inline>li:not(:last-child)::after {content: \"\\00b7\"; padding: 0 .5ex}\n",
       "</style>\n",
       "<ol class=list-inline><li>'CROP_DATA'</li><li>'DAILY_FX'</li><li>'FARM_PRICES'</li><li>'MONTHLY_FX'</li></ol>\n"
      ],
      "text/latex": [
       "\\begin{enumerate*}\n",
       "\\item 'CROP\\_DATA'\n",
       "\\item 'DAILY\\_FX'\n",
       "\\item 'FARM\\_PRICES'\n",
       "\\item 'MONTHLY\\_FX'\n",
       "\\end{enumerate*}\n"
      ],
      "text/markdown": [
       "1. 'CROP_DATA'\n",
       "2. 'DAILY_FX'\n",
       "3. 'FARM_PRICES'\n",
       "4. 'MONTHLY_FX'\n",
       "\n",
       "\n"
      ],
      "text/plain": [
       "[1] \"CROP_DATA\"   \"DAILY_FX\"    \"FARM_PRICES\" \"MONTHLY_FX\" "
      ]
     },
     "metadata": {},
     "output_type": "display_data"
    }
   ],
   "source": [
    "#check list of tables in the present db.\n",
    "dbListTables(conn)"
   ]
  },
  {
   "cell_type": "markdown",
   "metadata": {},
   "source": [
    "## Problem 2\n",
    "\n",
    "#### Read Datasets and load your tables in database\n",
    "\n",
    "Read the datasets into R dataframes using the urls provided above. Then load your tables in database.\n"
   ]
  },
  {
   "cell_type": "code",
   "execution_count": 53,
   "metadata": {
    "tags": []
   },
   "outputs": [],
   "source": [
    "# Write your query here\n",
    "library(readr)\n",
    "\n",
    "# URLs for the datasets\n",
    "crop_data_url <- \"https://cf-courses-data.s3.us.cloud-object-storage.appdomain.cloud/IBM-RP0203EN-SkillsNetwork/labs/Final%20Project/Annual_Crop_Data.csv\"\n",
    "farm_prices_url <- \"https://cf-courses-data.s3.us.cloud-object-storage.appdomain.cloud/IBM-RP0203EN-SkillsNetwork/labs/Final%20Project/Monthly_Farm_Prices.csv\"\n",
    "daily_fx_url <- \"https://cf-courses-data.s3.us.cloud-object-storage.appdomain.cloud/IBM-RP0203EN-SkillsNetwork/labs/Final%20Project/Daily_FX.csv\"\n",
    "monthly_fx_url <- \"https://cf-courses-data.s3.us.cloud-object-storage.appdomain.cloud/IBM-RP0203EN-SkillsNetwork/labs/Final%20Project/Monthly_FX.csv\"\n",
    "\n",
    "# Read datasets into R dataframes\n",
    "crop_data <- read.csv(crop_data_url)\n",
    "farm_prices <- read.csv(farm_prices_url)\n",
    "daily_fx <- read.csv(daily_fx_url)\n",
    "monthly_fx <- read.csv(monthly_fx_url)\n",
    "\n",
    "# Establish connection to the SQLite database\n",
    "conn <- dbConnect(RSQLite::SQLite(), \"FinalDB.sqlite\")\n",
    "\n",
    "# Load dataframes into corresponding tables in the database\n",
    "dbWriteTable(conn, \"CROP_DATA\", crop_data, overwrite = TRUE)\n",
    "dbWriteTable(conn, \"FARM_PRICES\", farm_prices, overwrite = TRUE)\n",
    "dbWriteTable(conn, \"DAILY_FX\", daily_fx, overwrite = TRUE)\n",
    "dbWriteTable(conn, \"MONTHLY_FX\", monthly_fx, overwrite = TRUE)"
   ]
  },
  {
   "cell_type": "markdown",
   "metadata": {},
   "source": [
    "## Now execute SQL queries using the RSQLite R package to solve the assignment problems.\n",
    "\n",
    "## Problem 3\n",
    "\n",
    "#### How many records are in the farm prices dataset?\n"
   ]
  },
  {
   "cell_type": "code",
   "execution_count": 38,
   "metadata": {
    "tags": []
   },
   "outputs": [
    {
     "data": {
      "text/html": [
       "<table>\n",
       "<caption>A data.frame: 1 × 1</caption>\n",
       "<thead>\n",
       "\t<tr><th scope=col>num_records</th></tr>\n",
       "\t<tr><th scope=col>&lt;int&gt;</th></tr>\n",
       "</thead>\n",
       "<tbody>\n",
       "\t<tr><td>2678</td></tr>\n",
       "</tbody>\n",
       "</table>\n"
      ],
      "text/latex": [
       "A data.frame: 1 × 1\n",
       "\\begin{tabular}{l}\n",
       " num\\_records\\\\\n",
       " <int>\\\\\n",
       "\\hline\n",
       "\t 2678\\\\\n",
       "\\end{tabular}\n"
      ],
      "text/markdown": [
       "\n",
       "A data.frame: 1 × 1\n",
       "\n",
       "| num_records &lt;int&gt; |\n",
       "|---|\n",
       "| 2678 |\n",
       "\n"
      ],
      "text/plain": [
       "  num_records\n",
       "1 2678       "
      ]
     },
     "metadata": {},
     "output_type": "display_data"
    }
   ],
   "source": [
    "dbGetQuery(conn, \"SELECT COUNT(*) AS num_records FROM FARM_PRICES\")"
   ]
  },
  {
   "cell_type": "markdown",
   "metadata": {},
   "source": [
    "## Problem 4\n",
    "\n",
    "#### Which geographies are included in the farm prices dataset?\n"
   ]
  },
  {
   "cell_type": "code",
   "execution_count": 39,
   "metadata": {
    "tags": []
   },
   "outputs": [
    {
     "data": {
      "text/html": [
       "<table>\n",
       "<caption>A data.frame: 2 × 1</caption>\n",
       "<thead>\n",
       "\t<tr><th scope=col>GEO</th></tr>\n",
       "\t<tr><th scope=col>&lt;chr&gt;</th></tr>\n",
       "</thead>\n",
       "<tbody>\n",
       "\t<tr><td>Alberta     </td></tr>\n",
       "\t<tr><td>Saskatchewan</td></tr>\n",
       "</tbody>\n",
       "</table>\n"
      ],
      "text/latex": [
       "A data.frame: 2 × 1\n",
       "\\begin{tabular}{l}\n",
       " GEO\\\\\n",
       " <chr>\\\\\n",
       "\\hline\n",
       "\t Alberta     \\\\\n",
       "\t Saskatchewan\\\\\n",
       "\\end{tabular}\n"
      ],
      "text/markdown": [
       "\n",
       "A data.frame: 2 × 1\n",
       "\n",
       "| GEO &lt;chr&gt; |\n",
       "|---|\n",
       "| Alberta      |\n",
       "| Saskatchewan |\n",
       "\n"
      ],
      "text/plain": [
       "  GEO         \n",
       "1 Alberta     \n",
       "2 Saskatchewan"
      ]
     },
     "metadata": {},
     "output_type": "display_data"
    }
   ],
   "source": [
    "dbGetQuery(conn, \"SELECT DISTINCT GEO FROM FARM_PRICES\")"
   ]
  },
  {
   "cell_type": "markdown",
   "metadata": {},
   "source": [
    "## Problem 5\n",
    "\n",
    "#### How many hectares of Rye were harvested in Canada in 1968?\n"
   ]
  },
  {
   "cell_type": "code",
   "execution_count": 40,
   "metadata": {
    "tags": []
   },
   "outputs": [
    {
     "data": {
      "text/html": [
       "<table>\n",
       "<caption>A data.frame: 1 × 1</caption>\n",
       "<thead>\n",
       "\t<tr><th scope=col>total_harvested_area</th></tr>\n",
       "\t<tr><th scope=col>&lt;int&gt;</th></tr>\n",
       "</thead>\n",
       "<tbody>\n",
       "\t<tr><td>274100</td></tr>\n",
       "</tbody>\n",
       "</table>\n"
      ],
      "text/latex": [
       "A data.frame: 1 × 1\n",
       "\\begin{tabular}{l}\n",
       " total\\_harvested\\_area\\\\\n",
       " <int>\\\\\n",
       "\\hline\n",
       "\t 274100\\\\\n",
       "\\end{tabular}\n"
      ],
      "text/markdown": [
       "\n",
       "A data.frame: 1 × 1\n",
       "\n",
       "| total_harvested_area &lt;int&gt; |\n",
       "|---|\n",
       "| 274100 |\n",
       "\n"
      ],
      "text/plain": [
       "  total_harvested_area\n",
       "1 274100              "
      ]
     },
     "metadata": {},
     "output_type": "display_data"
    }
   ],
   "source": [
    "dbGetQuery(conn, \"SELECT SUM(HARVESTED_AREA) AS total_harvested_area FROM CROP_DATA WHERE CROP_TYPE = 'Rye' AND YEAR LIKE '1968%' AND GEO = 'Canada'\")"
   ]
  },
  {
   "cell_type": "markdown",
   "metadata": {},
   "source": [
    "## Problem 6\n",
    "\n",
    "#### Query and display the first 6 rows of the farm prices table for Rye.\n"
   ]
  },
  {
   "cell_type": "code",
   "execution_count": 41,
   "metadata": {
    "tags": []
   },
   "outputs": [
    {
     "data": {
      "text/html": [
       "<table>\n",
       "<caption>A data.frame: 6 × 5</caption>\n",
       "<thead>\n",
       "\t<tr><th scope=col>CD_ID</th><th scope=col>DATE</th><th scope=col>CROP_TYPE</th><th scope=col>GEO</th><th scope=col>PRICE_PRERMT</th></tr>\n",
       "\t<tr><th scope=col>&lt;int&gt;</th><th scope=col>&lt;chr&gt;</th><th scope=col>&lt;chr&gt;</th><th scope=col>&lt;chr&gt;</th><th scope=col>&lt;dbl&gt;</th></tr>\n",
       "</thead>\n",
       "<tbody>\n",
       "\t<tr><td> 4</td><td>1985-01-01</td><td>Rye</td><td>Alberta     </td><td>100.77</td></tr>\n",
       "\t<tr><td> 5</td><td>1985-01-01</td><td>Rye</td><td>Saskatchewan</td><td>109.75</td></tr>\n",
       "\t<tr><td>10</td><td>1985-02-01</td><td>Rye</td><td>Alberta     </td><td> 95.05</td></tr>\n",
       "\t<tr><td>11</td><td>1985-02-01</td><td>Rye</td><td>Saskatchewan</td><td>103.46</td></tr>\n",
       "\t<tr><td>16</td><td>1985-03-01</td><td>Rye</td><td>Alberta     </td><td> 96.77</td></tr>\n",
       "\t<tr><td>17</td><td>1985-03-01</td><td>Rye</td><td>Saskatchewan</td><td>106.38</td></tr>\n",
       "</tbody>\n",
       "</table>\n"
      ],
      "text/latex": [
       "A data.frame: 6 × 5\n",
       "\\begin{tabular}{lllll}\n",
       " CD\\_ID & DATE & CROP\\_TYPE & GEO & PRICE\\_PRERMT\\\\\n",
       " <int> & <chr> & <chr> & <chr> & <dbl>\\\\\n",
       "\\hline\n",
       "\t  4 & 1985-01-01 & Rye & Alberta      & 100.77\\\\\n",
       "\t  5 & 1985-01-01 & Rye & Saskatchewan & 109.75\\\\\n",
       "\t 10 & 1985-02-01 & Rye & Alberta      &  95.05\\\\\n",
       "\t 11 & 1985-02-01 & Rye & Saskatchewan & 103.46\\\\\n",
       "\t 16 & 1985-03-01 & Rye & Alberta      &  96.77\\\\\n",
       "\t 17 & 1985-03-01 & Rye & Saskatchewan & 106.38\\\\\n",
       "\\end{tabular}\n"
      ],
      "text/markdown": [
       "\n",
       "A data.frame: 6 × 5\n",
       "\n",
       "| CD_ID &lt;int&gt; | DATE &lt;chr&gt; | CROP_TYPE &lt;chr&gt; | GEO &lt;chr&gt; | PRICE_PRERMT &lt;dbl&gt; |\n",
       "|---|---|---|---|---|\n",
       "|  4 | 1985-01-01 | Rye | Alberta      | 100.77 |\n",
       "|  5 | 1985-01-01 | Rye | Saskatchewan | 109.75 |\n",
       "| 10 | 1985-02-01 | Rye | Alberta      |  95.05 |\n",
       "| 11 | 1985-02-01 | Rye | Saskatchewan | 103.46 |\n",
       "| 16 | 1985-03-01 | Rye | Alberta      |  96.77 |\n",
       "| 17 | 1985-03-01 | Rye | Saskatchewan | 106.38 |\n",
       "\n"
      ],
      "text/plain": [
       "  CD_ID DATE       CROP_TYPE GEO          PRICE_PRERMT\n",
       "1  4    1985-01-01 Rye       Alberta      100.77      \n",
       "2  5    1985-01-01 Rye       Saskatchewan 109.75      \n",
       "3 10    1985-02-01 Rye       Alberta       95.05      \n",
       "4 11    1985-02-01 Rye       Saskatchewan 103.46      \n",
       "5 16    1985-03-01 Rye       Alberta       96.77      \n",
       "6 17    1985-03-01 Rye       Saskatchewan 106.38      "
      ]
     },
     "metadata": {},
     "output_type": "display_data"
    }
   ],
   "source": [
    "dbGetQuery(conn, \"SELECT * FROM FARM_PRICES WHERE CROP_TYPE = 'Rye' LIMIT 6\")"
   ]
  },
  {
   "cell_type": "markdown",
   "metadata": {},
   "source": [
    "## Problem 7\n",
    "\n",
    "#### Which provinces grew Barley?\n"
   ]
  },
  {
   "cell_type": "code",
   "execution_count": 42,
   "metadata": {
    "tags": []
   },
   "outputs": [
    {
     "data": {
      "text/html": [
       "<table>\n",
       "<caption>A data.frame: 2 × 1</caption>\n",
       "<thead>\n",
       "\t<tr><th scope=col>GEO</th></tr>\n",
       "\t<tr><th scope=col>&lt;chr&gt;</th></tr>\n",
       "</thead>\n",
       "<tbody>\n",
       "\t<tr><td>Alberta     </td></tr>\n",
       "\t<tr><td>Saskatchewan</td></tr>\n",
       "</tbody>\n",
       "</table>\n"
      ],
      "text/latex": [
       "A data.frame: 2 × 1\n",
       "\\begin{tabular}{l}\n",
       " GEO\\\\\n",
       " <chr>\\\\\n",
       "\\hline\n",
       "\t Alberta     \\\\\n",
       "\t Saskatchewan\\\\\n",
       "\\end{tabular}\n"
      ],
      "text/markdown": [
       "\n",
       "A data.frame: 2 × 1\n",
       "\n",
       "| GEO &lt;chr&gt; |\n",
       "|---|\n",
       "| Alberta      |\n",
       "| Saskatchewan |\n",
       "\n"
      ],
      "text/plain": [
       "  GEO         \n",
       "1 Alberta     \n",
       "2 Saskatchewan"
      ]
     },
     "metadata": {},
     "output_type": "display_data"
    }
   ],
   "source": [
    "dbGetQuery(conn, \"SELECT DISTINCT GEO FROM FARM_PRICES WHERE CROP_TYPE = 'Barley'\")"
   ]
  },
  {
   "cell_type": "markdown",
   "metadata": {},
   "source": [
    "## Problem 8\n",
    "\n",
    "#### Find the first and last dates for the farm prices data.\n"
   ]
  },
  {
   "cell_type": "code",
   "execution_count": 43,
   "metadata": {
    "tags": []
   },
   "outputs": [
    {
     "data": {
      "text/html": [
       "<table>\n",
       "<caption>A data.frame: 1 × 2</caption>\n",
       "<thead>\n",
       "\t<tr><th scope=col>first_date</th><th scope=col>last_date</th></tr>\n",
       "\t<tr><th scope=col>&lt;chr&gt;</th><th scope=col>&lt;chr&gt;</th></tr>\n",
       "</thead>\n",
       "<tbody>\n",
       "\t<tr><td>1985-01-01</td><td>2020-12-01</td></tr>\n",
       "</tbody>\n",
       "</table>\n"
      ],
      "text/latex": [
       "A data.frame: 1 × 2\n",
       "\\begin{tabular}{ll}\n",
       " first\\_date & last\\_date\\\\\n",
       " <chr> & <chr>\\\\\n",
       "\\hline\n",
       "\t 1985-01-01 & 2020-12-01\\\\\n",
       "\\end{tabular}\n"
      ],
      "text/markdown": [
       "\n",
       "A data.frame: 1 × 2\n",
       "\n",
       "| first_date &lt;chr&gt; | last_date &lt;chr&gt; |\n",
       "|---|---|\n",
       "| 1985-01-01 | 2020-12-01 |\n",
       "\n"
      ],
      "text/plain": [
       "  first_date last_date \n",
       "1 1985-01-01 2020-12-01"
      ]
     },
     "metadata": {},
     "output_type": "display_data"
    }
   ],
   "source": [
    "dbGetQuery(conn, \"SELECT MIN(DATE) AS first_date, MAX(DATE) AS last_date FROM FARM_PRICES\")"
   ]
  },
  {
   "cell_type": "markdown",
   "metadata": {},
   "source": [
    "## Problem 9\n",
    "\n",
    "#### Which crops have ever reached a farm price greater than or equal to $350 per metric tonne?\n"
   ]
  },
  {
   "cell_type": "code",
   "execution_count": 44,
   "metadata": {
    "tags": []
   },
   "outputs": [
    {
     "data": {
      "text/html": [
       "<table>\n",
       "<caption>A data.frame: 1 × 1</caption>\n",
       "<thead>\n",
       "\t<tr><th scope=col>CROP_TYPE</th></tr>\n",
       "\t<tr><th scope=col>&lt;chr&gt;</th></tr>\n",
       "</thead>\n",
       "<tbody>\n",
       "\t<tr><td>Canola</td></tr>\n",
       "</tbody>\n",
       "</table>\n"
      ],
      "text/latex": [
       "A data.frame: 1 × 1\n",
       "\\begin{tabular}{l}\n",
       " CROP\\_TYPE\\\\\n",
       " <chr>\\\\\n",
       "\\hline\n",
       "\t Canola\\\\\n",
       "\\end{tabular}\n"
      ],
      "text/markdown": [
       "\n",
       "A data.frame: 1 × 1\n",
       "\n",
       "| CROP_TYPE &lt;chr&gt; |\n",
       "|---|\n",
       "| Canola |\n",
       "\n"
      ],
      "text/plain": [
       "  CROP_TYPE\n",
       "1 Canola   "
      ]
     },
     "metadata": {},
     "output_type": "display_data"
    }
   ],
   "source": [
    "dbGetQuery(conn, \"SELECT DISTINCT CROP_TYPE FROM FARM_PRICES WHERE PRICE_PRERMT >= 350\")"
   ]
  },
  {
   "cell_type": "markdown",
   "metadata": {},
   "source": [
    "## Problem 10\n",
    "\n",
    "#### Rank the crop types harvested in Saskatchewan in the year 2000 by their average yield. Which crop performed best?\n"
   ]
  },
  {
   "cell_type": "code",
   "execution_count": 45,
   "metadata": {
    "tags": []
   },
   "outputs": [
    {
     "data": {
      "text/html": [
       "<table>\n",
       "<caption>A data.frame: 4 × 2</caption>\n",
       "<thead>\n",
       "\t<tr><th scope=col>CROP_TYPE</th><th scope=col>avg_yield</th></tr>\n",
       "\t<tr><th scope=col>&lt;chr&gt;</th><th scope=col>&lt;dbl&gt;</th></tr>\n",
       "</thead>\n",
       "<tbody>\n",
       "\t<tr><td>Barley</td><td>2800</td></tr>\n",
       "\t<tr><td>Wheat </td><td>2200</td></tr>\n",
       "\t<tr><td>Rye   </td><td>2100</td></tr>\n",
       "\t<tr><td>Canola</td><td>1400</td></tr>\n",
       "</tbody>\n",
       "</table>\n"
      ],
      "text/latex": [
       "A data.frame: 4 × 2\n",
       "\\begin{tabular}{ll}\n",
       " CROP\\_TYPE & avg\\_yield\\\\\n",
       " <chr> & <dbl>\\\\\n",
       "\\hline\n",
       "\t Barley & 2800\\\\\n",
       "\t Wheat  & 2200\\\\\n",
       "\t Rye    & 2100\\\\\n",
       "\t Canola & 1400\\\\\n",
       "\\end{tabular}\n"
      ],
      "text/markdown": [
       "\n",
       "A data.frame: 4 × 2\n",
       "\n",
       "| CROP_TYPE &lt;chr&gt; | avg_yield &lt;dbl&gt; |\n",
       "|---|---|\n",
       "| Barley | 2800 |\n",
       "| Wheat  | 2200 |\n",
       "| Rye    | 2100 |\n",
       "| Canola | 1400 |\n",
       "\n"
      ],
      "text/plain": [
       "  CROP_TYPE avg_yield\n",
       "1 Barley    2800     \n",
       "2 Wheat     2200     \n",
       "3 Rye       2100     \n",
       "4 Canola    1400     "
      ]
     },
     "metadata": {},
     "output_type": "display_data"
    }
   ],
   "source": [
    "dbGetQuery(conn, \"SELECT CROP_TYPE, AVG(AVG_YIELD) AS avg_yield FROM CROP_DATA WHERE YEAR LIKE '2000%' AND GEO = 'Saskatchewan' GROUP BY CROP_TYPE ORDER BY avg_yield DESC\")"
   ]
  },
  {
   "cell_type": "markdown",
   "metadata": {},
   "source": [
    "## Problem 11\n",
    "\n",
    "#### Rank the crops and geographies by their average yield (KG per hectare) since the year 2000. Which crop and province had the highest average yield since the year 2000?\n"
   ]
  },
  {
   "cell_type": "code",
   "execution_count": 46,
   "metadata": {
    "tags": []
   },
   "outputs": [
    {
     "data": {
      "text/html": [
       "<table>\n",
       "<caption>A data.frame: 1 × 3</caption>\n",
       "<thead>\n",
       "\t<tr><th scope=col>CROP_TYPE</th><th scope=col>GEO</th><th scope=col>avg_yield</th></tr>\n",
       "\t<tr><th scope=col>&lt;chr&gt;</th><th scope=col>&lt;chr&gt;</th><th scope=col>&lt;dbl&gt;</th></tr>\n",
       "</thead>\n",
       "<tbody>\n",
       "\t<tr><td>Barley</td><td>Alberta</td><td>3000</td></tr>\n",
       "</tbody>\n",
       "</table>\n"
      ],
      "text/latex": [
       "A data.frame: 1 × 3\n",
       "\\begin{tabular}{lll}\n",
       " CROP\\_TYPE & GEO & avg\\_yield\\\\\n",
       " <chr> & <chr> & <dbl>\\\\\n",
       "\\hline\n",
       "\t Barley & Alberta & 3000\\\\\n",
       "\\end{tabular}\n"
      ],
      "text/markdown": [
       "\n",
       "A data.frame: 1 × 3\n",
       "\n",
       "| CROP_TYPE &lt;chr&gt; | GEO &lt;chr&gt; | avg_yield &lt;dbl&gt; |\n",
       "|---|---|---|\n",
       "| Barley | Alberta | 3000 |\n",
       "\n"
      ],
      "text/plain": [
       "  CROP_TYPE GEO     avg_yield\n",
       "1 Barley    Alberta 3000     "
      ]
     },
     "metadata": {},
     "output_type": "display_data"
    }
   ],
   "source": [
    "dbGetQuery(conn, \"SELECT CROP_TYPE, GEO, AVG(AVG_YIELD) AS avg_yield FROM CROP_DATA WHERE YEAR LIKE '2000%' GROUP BY CROP_TYPE, GEO ORDER BY avg_yield DESC LIMIT 1\")"
   ]
  },
  {
   "cell_type": "markdown",
   "metadata": {},
   "source": [
    "## Problem 12\n",
    "\n",
    "#### Use a subquery to determine how much wheat was harvested in Canada in the most recent year of the data.\n"
   ]
  },
  {
   "cell_type": "code",
   "execution_count": 47,
   "metadata": {
    "tags": []
   },
   "outputs": [
    {
     "data": {
      "text/html": [
       "<table>\n",
       "<caption>A data.frame: 1 × 1</caption>\n",
       "<thead>\n",
       "\t<tr><th scope=col>total_harvested_area</th></tr>\n",
       "\t<tr><th scope=col>&lt;int&gt;</th></tr>\n",
       "</thead>\n",
       "<tbody>\n",
       "\t<tr><td>10017800</td></tr>\n",
       "</tbody>\n",
       "</table>\n"
      ],
      "text/latex": [
       "A data.frame: 1 × 1\n",
       "\\begin{tabular}{l}\n",
       " total\\_harvested\\_area\\\\\n",
       " <int>\\\\\n",
       "\\hline\n",
       "\t 10017800\\\\\n",
       "\\end{tabular}\n"
      ],
      "text/markdown": [
       "\n",
       "A data.frame: 1 × 1\n",
       "\n",
       "| total_harvested_area &lt;int&gt; |\n",
       "|---|\n",
       "| 10017800 |\n",
       "\n"
      ],
      "text/plain": [
       "  total_harvested_area\n",
       "1 10017800            "
      ]
     },
     "metadata": {},
     "output_type": "display_data"
    }
   ],
   "source": [
    "dbGetQuery(conn, \"SELECT SUM(HARVESTED_AREA) AS total_harvested_area FROM CROP_DATA WHERE CROP_TYPE = 'Wheat' AND YEAR = (SELECT MAX(YEAR) FROM CROP_DATA) AND GEO = 'Canada'\")"
   ]
  },
  {
   "cell_type": "markdown",
   "metadata": {},
   "source": [
    "## Problem 13\n",
    "\n",
    "#### Use an implicit inner join to calculate the monthly price per metric tonne of Canola grown in Saskatchewan in both Canadian and US dollars. Display the most recent 6 months of the data.\n"
   ]
  },
  {
   "cell_type": "code",
   "execution_count": 54,
   "metadata": {
    "tags": []
   },
   "outputs": [
    {
     "data": {
      "text/html": [
       "<table>\n",
       "<caption>A data.frame: 6 × 3</caption>\n",
       "<thead>\n",
       "\t<tr><th scope=col>DATE</th><th scope=col>CAD_Price</th><th scope=col>USD_Price</th></tr>\n",
       "\t<tr><th scope=col>&lt;chr&gt;</th><th scope=col>&lt;dbl&gt;</th><th scope=col>&lt;dbl&gt;</th></tr>\n",
       "</thead>\n",
       "<tbody>\n",
       "\t<tr><td>2020-12-01</td><td>507.33</td><td>192.90</td></tr>\n",
       "\t<tr><td>2020-12-01</td><td>507.33</td><td>220.53</td></tr>\n",
       "\t<tr><td>2020-12-01</td><td>507.33</td><td>271.90</td></tr>\n",
       "\t<tr><td>2020-12-01</td><td>507.33</td><td>507.33</td></tr>\n",
       "\t<tr><td>2020-11-01</td><td>495.64</td><td>210.63</td></tr>\n",
       "\t<tr><td>2020-11-01</td><td>495.64</td><td>267.52</td></tr>\n",
       "</tbody>\n",
       "</table>\n"
      ],
      "text/latex": [
       "A data.frame: 6 × 3\n",
       "\\begin{tabular}{lll}\n",
       " DATE & CAD\\_Price & USD\\_Price\\\\\n",
       " <chr> & <dbl> & <dbl>\\\\\n",
       "\\hline\n",
       "\t 2020-12-01 & 507.33 & 192.90\\\\\n",
       "\t 2020-12-01 & 507.33 & 220.53\\\\\n",
       "\t 2020-12-01 & 507.33 & 271.90\\\\\n",
       "\t 2020-12-01 & 507.33 & 507.33\\\\\n",
       "\t 2020-11-01 & 495.64 & 210.63\\\\\n",
       "\t 2020-11-01 & 495.64 & 267.52\\\\\n",
       "\\end{tabular}\n"
      ],
      "text/markdown": [
       "\n",
       "A data.frame: 6 × 3\n",
       "\n",
       "| DATE &lt;chr&gt; | CAD_Price &lt;dbl&gt; | USD_Price &lt;dbl&gt; |\n",
       "|---|---|---|\n",
       "| 2020-12-01 | 507.33 | 192.90 |\n",
       "| 2020-12-01 | 507.33 | 220.53 |\n",
       "| 2020-12-01 | 507.33 | 271.90 |\n",
       "| 2020-12-01 | 507.33 | 507.33 |\n",
       "| 2020-11-01 | 495.64 | 210.63 |\n",
       "| 2020-11-01 | 495.64 | 267.52 |\n",
       "\n"
      ],
      "text/plain": [
       "  DATE       CAD_Price USD_Price\n",
       "1 2020-12-01 507.33    192.90   \n",
       "2 2020-12-01 507.33    220.53   \n",
       "3 2020-12-01 507.33    271.90   \n",
       "4 2020-12-01 507.33    507.33   \n",
       "5 2020-11-01 495.64    210.63   \n",
       "6 2020-11-01 495.64    267.52   "
      ]
     },
     "metadata": {},
     "output_type": "display_data"
    }
   ],
   "source": [
    "dbGetQuery(conn, \"SELECT fp.DATE, fp.PRICE_PRERMT AS CAD_Price, fp_usd.PRICE_PRERMT AS USD_Price \n",
    "                  FROM FARM_PRICES fp \n",
    "                  INNER JOIN FARM_PRICES fp_usd ON fp.DATE = fp_usd.DATE \n",
    "                  WHERE fp.CROP_TYPE = 'Canola' AND fp.GEO = 'Saskatchewan' AND fp_usd.GEO = 'Saskatchewan' \n",
    "                  AND fp.DATE LIKE '2020%'\n",
    "                  ORDER BY fp.DATE DESC LIMIT 6\")\n",
    "\n",
    "dbDisconnect(conn)"
   ]
  },
  {
   "cell_type": "markdown",
   "metadata": {},
   "source": [
    "## Author(s)\n",
    "\n",
    "<h4> Jeff Grossman </h4>\n",
    "\n",
    "<h4> D.M. Naidu </h4>\n",
    "\n",
    "## Contributor(s)\n",
    "\n",
    "<h4> Rav Ahuja </h4>\n",
    "\n",
    "<h4> Lakshmi Holla </h4>\n",
    "\n",
    "\n",
    "## Change log\n",
    "\n",
    "| Date       | Version | Changed by    | Change Description                        |\n",
    "| ---------- | ------- | ------------- | ----------------------------------------- |\n",
    "| 2022-03-03 | 1.0     | D.M. Naidu    | Converted intial version to RSQLite       |\n",
    "\n",
    "## <h3 align=\"center\"> © IBM Corporation 2022. All rights reserved. <h3/>\n"
   ]
  }
 ],
 "metadata": {
  "kernelspec": {
   "display_name": "R",
   "language": "R",
   "name": "conda-env-r-r"
  },
  "language_info": {
   "codemirror_mode": "r",
   "file_extension": ".r",
   "mimetype": "text/x-r-source",
   "name": "R",
   "pygments_lexer": "r",
   "version": "3.5.1"
  }
 },
 "nbformat": 4,
 "nbformat_minor": 4
}
