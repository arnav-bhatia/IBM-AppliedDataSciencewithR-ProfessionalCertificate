{
 "cells": [
  {
   "cell_type": "markdown",
   "metadata": {},
   "source": [
    "<center>\n",
    "<img src=\"https://cf-courses-data.s3.us.cloud-object-storage.appdomain.cloud/IBMDeveloperSkillsNetwork-RP0321EN-SkillsNetwork/labs/module_1/images/SN_web_lightmode.png\" width=\"300\"> \n",
    "</center>\n"
   ]
  },
  {
   "cell_type": "markdown",
   "metadata": {},
   "source": [
    "<h1>Predict Hourly Rented Bike Count using Basic Linear Regression Models</h1>\n",
    "\n",
    "Estimated time needed: **90** minutes\n"
   ]
  },
  {
   "cell_type": "markdown",
   "metadata": {},
   "source": [
    "## Lab Overview:\n",
    "\n",
    "Now that you have performed exploratory analysis on the bike sharing demand dataset and obtained some insights on the attributes, it's time to build predictive models to predict the hourly rented bike count using related weather and date information.\n",
    "\n",
    "In this lab, you will be asked to use `tidymodels` to build some baseline linear regression models:\n",
    "- **TASK: Split data into training and testing datasets**\n",
    "- **TASK: Build a linear regression model using only the weather variables**\n",
    "- **TASK: Build a linear regression model using both weather and date variables**\n",
    "- **TASK: Evaluate the models and identify important variables**\n",
    "\n",
    "Let's start!\n"
   ]
  },
  {
   "cell_type": "markdown",
   "metadata": {},
   "source": [
    "The tidyverse and the tidymodels packages can be used to produce high quality statistical and machine learning models. The Tidyverse library is a useful tool that provides various tools for data visualization, data manipulation, and read various datasets into a data frame; our Jupyter notebook platforms have a built-in Tidymodels, Tidyverse and rlang libraries, so we do not need to install these packages prior to loading library. However, if you decide to run this lab on your RStudio Desktop locally on your machine, you can remove the commented lines of code to install these packages before loading.\n"
   ]
  },
  {
   "cell_type": "code",
   "execution_count": null,
   "metadata": {},
   "outputs": [],
   "source": [
    "# It may take several minutes to install those libraries in Watson Studio\n",
    "# install.packages(\"rlang\")\n",
    "# install.packages(\"tidymodels\")"
   ]
  },
  {
   "cell_type": "code",
   "execution_count": 1,
   "metadata": {
    "tags": []
   },
   "outputs": [
    {
     "name": "stderr",
     "output_type": "stream",
     "text": [
      "── Attaching packages ────────────────────────────────────── tidymodels 0.1.0 ──\n",
      "✔ broom     0.5.6      ✔ recipes   0.1.12\n",
      "✔ dials     0.0.6      ✔ rsample   0.0.5 \n",
      "✔ dplyr     0.8.5      ✔ tibble    3.0.1 \n",
      "✔ ggplot2   3.3.0      ✔ tune      0.1.0 \n",
      "✔ infer     0.5.1      ✔ workflows 0.1.1 \n",
      "✔ parsnip   0.1.0      ✔ yardstick 0.0.6 \n",
      "✔ purrr     0.3.4      \n",
      "── Conflicts ───────────────────────────────────────── tidymodels_conflicts() ──\n",
      "✖ purrr::discard()  masks scales::discard()\n",
      "✖ dplyr::filter()   masks stats::filter()\n",
      "✖ dplyr::lag()      masks stats::lag()\n",
      "✖ ggplot2::margin() masks dials::margin()\n",
      "✖ recipes::step()   masks stats::step()\n",
      "── Attaching packages ─────────────────────────────────────── tidyverse 1.3.0 ──\n",
      "✔ readr   1.3.1     ✔ forcats 0.5.0\n",
      "✔ stringr 1.4.0     \n",
      "── Conflicts ────────────────────────────────────────── tidyverse_conflicts() ──\n",
      "✖ readr::col_factor() masks scales::col_factor()\n",
      "✖ purrr::discard()    masks scales::discard()\n",
      "✖ dplyr::filter()     masks stats::filter()\n",
      "✖ stringr::fixed()    masks recipes::fixed()\n",
      "✖ dplyr::lag()        masks stats::lag()\n",
      "✖ ggplot2::margin()   masks dials::margin()\n",
      "✖ readr::spec()       masks yardstick::spec()\n"
     ]
    }
   ],
   "source": [
    "library(\"tidymodels\")\n",
    "library(\"tidyverse\")\n",
    "library(\"stringr\")"
   ]
  },
  {
   "cell_type": "markdown",
   "metadata": {},
   "source": [
    "The `seoul_bike_sharing_converted_normalized.csv` will be our main dataset which has following variables:\n",
    "\n",
    "The response variable:\n",
    "- `RENTED BIKE COUNT`- Count of bikes rented at each hour\n",
    "\n",
    "Weather predictor variables:\n",
    "- `TEMPERATURE` - Temperature in Celsius\n",
    "- `HUMIDITY` - Unit is `%`\n",
    "- `WIND_SPEED` - Unit is `m/s`\n",
    "- `VISIBILITY` - Multiplied by 10m\n",
    "- `DEW_POINT_TEMPERATURE` - The temperature to which the air would have to cool down in order to reach saturation, unit is Celsius\n",
    "- `SOLAR_RADIATION` - MJ/m2\n",
    "- `RAINFALL` - mm\n",
    "- `SNOWFALL` - cm\n",
    "\n",
    "Date/time predictor variables:\n",
    "- `DATE` - Year-month-day\n",
    "- `HOUR`- Hour of he day\n",
    "- `FUNCTIONAL DAY` - NoFunc(Non Functional Hours), Fun(Functional hours)\n",
    "- `HOLIDAY` - Holiday/No holiday\n",
    "- `SEASONS` - Winter, Spring, Summer, Autumn\n"
   ]
  },
  {
   "cell_type": "markdown",
   "metadata": {},
   "source": [
    "Let's read the dataset as a dataframe first:\n"
   ]
  },
  {
   "cell_type": "code",
   "execution_count": 2,
   "metadata": {
    "tags": []
   },
   "outputs": [
    {
     "name": "stderr",
     "output_type": "stream",
     "text": [
      "Parsed with column specification:\n",
      "cols(\n",
      "  .default = col_double(),\n",
      "  DATE = col_character(),\n",
      "  FUNCTIONING_DAY = col_character()\n",
      ")\n",
      "See spec(...) for full column specifications.\n"
     ]
    },
    {
     "data": {
      "text/plain": [
       "cols(\n",
       "  DATE = col_character(),\n",
       "  RENTED_BIKE_COUNT = col_double(),\n",
       "  TEMPERATURE = col_double(),\n",
       "  HUMIDITY = col_double(),\n",
       "  WIND_SPEED = col_double(),\n",
       "  VISIBILITY = col_double(),\n",
       "  DEW_POINT_TEMPERATURE = col_double(),\n",
       "  SOLAR_RADIATION = col_double(),\n",
       "  RAINFALL = col_double(),\n",
       "  SNOWFALL = col_double(),\n",
       "  FUNCTIONING_DAY = col_character(),\n",
       "  `0` = col_double(),\n",
       "  `1` = col_double(),\n",
       "  `10` = col_double(),\n",
       "  `11` = col_double(),\n",
       "  `12` = col_double(),\n",
       "  `13` = col_double(),\n",
       "  `14` = col_double(),\n",
       "  `15` = col_double(),\n",
       "  `16` = col_double(),\n",
       "  `17` = col_double(),\n",
       "  `18` = col_double(),\n",
       "  `19` = col_double(),\n",
       "  `2` = col_double(),\n",
       "  `20` = col_double(),\n",
       "  `21` = col_double(),\n",
       "  `22` = col_double(),\n",
       "  `23` = col_double(),\n",
       "  `3` = col_double(),\n",
       "  `4` = col_double(),\n",
       "  `5` = col_double(),\n",
       "  `6` = col_double(),\n",
       "  `7` = col_double(),\n",
       "  `8` = col_double(),\n",
       "  `9` = col_double(),\n",
       "  AUTUMN = col_double(),\n",
       "  SPRING = col_double(),\n",
       "  SUMMER = col_double(),\n",
       "  WINTER = col_double(),\n",
       "  HOLIDAY = col_double(),\n",
       "  NO_HOLIDAY = col_double()\n",
       ")"
      ]
     },
     "metadata": {},
     "output_type": "display_data"
    }
   ],
   "source": [
    "# Dataset URL\n",
    "dataset_url <- \"https://cf-courses-data.s3.us.cloud-object-storage.appdomain.cloud/IBMDeveloperSkillsNetwork-RP0321EN-SkillsNetwork/labs/datasets/seoul_bike_sharing_converted_normalized.csv\"\n",
    "bike_sharing_df <- read_csv(dataset_url)\n",
    "spec(bike_sharing_df)"
   ]
  },
  {
   "cell_type": "markdown",
   "metadata": {},
   "source": [
    "We won't be using the `DATE` column, because 'as is', it basically acts like an data entry index. (However, given more time, we could use the `DATE` colum to create a 'day of week' or 'isWeekend' column, which we might expect has an affect on preferred bike rental times.) We also do not need the `FUNCTIONAL DAY` column because it only has one distinct value remaining (`YES`) after missing value processing.\n"
   ]
  },
  {
   "cell_type": "code",
   "execution_count": 3,
   "metadata": {
    "tags": []
   },
   "outputs": [],
   "source": [
    "bike_sharing_df <- bike_sharing_df %>% \n",
    "                   select(-DATE, -FUNCTIONING_DAY)"
   ]
  },
  {
   "cell_type": "markdown",
   "metadata": {},
   "source": [
    "# TASK: Split training and testing data\n"
   ]
  },
  {
   "cell_type": "markdown",
   "metadata": {},
   "source": [
    "First, we need to split the full dataset into training and testing datasets.\n",
    "\n",
    "The training dataset will be used for fitting regression models, and the testing dataset will be used to evaluate the trained models.\n"
   ]
  },
  {
   "cell_type": "markdown",
   "metadata": {},
   "source": [
    "_TODO:_ Use the `initial_split()`, `training()`, and `testing()` functions to generate a training dataset consisting of 75% of the original dataset, and a testing dataset using the remaining 25%. \n"
   ]
  },
  {
   "cell_type": "code",
   "execution_count": 4,
   "metadata": {
    "tags": []
   },
   "outputs": [],
   "source": [
    "# Use the `initial_split()`, `training()`, and `testing()` functions to split the dataset\n",
    "# prop = 3/4\n",
    "# train_data \n",
    "# test_data\n",
    "library(tidymodels)\n",
    "\n",
    "# Set seed for reproducibility\n",
    "set.seed(1234)\n",
    "\n",
    "# Split the dataset into training and testing sets (75% training, 25% testing)\n",
    "split <- initial_split(bike_sharing_df, prop = 0.75, strata = RENTED_BIKE_COUNT)\n",
    "\n",
    "# Extract the training and testing datasets\n",
    "train_data <- training(split)\n",
    "test_data <- testing(split)\n"
   ]
  },
  {
   "cell_type": "markdown",
   "metadata": {},
   "source": [
    "# TASK: Build a linear regression model using weather variables only\n"
   ]
  },
  {
   "cell_type": "markdown",
   "metadata": {},
   "source": [
    "As you could imagine, weather conditions may affect people's bike renting decisions. For example, on a cold and rainy day, you may choose alternate transportation such as a bus or taxi.  While on a nice sunny day, you may want to rent a bike for a short-distance travel.\n"
   ]
  },
  {
   "cell_type": "markdown",
   "metadata": {},
   "source": [
    "Thus, can we predict a city's bike-sharing demand based on its local weather information? Let's try to build a regression model to do that.\n"
   ]
  },
  {
   "cell_type": "markdown",
   "metadata": {},
   "source": [
    "_TODO:_ Build a linear regression model called `lm_model_weather` using the following variables:\n",
    "\n",
    "- `TEMPERATURE` - Temperature in Celsius\n",
    "- `HUMIDITY` - Unit is `%`\n",
    "- `WIND_SPEED` - Unit is `m/s`\n",
    "- `VISIBILITY` - Multiplied by 10m\n",
    "- `DEW_POINT_TEMPERATURE` - The temperature to which the air would have to cool down in order to reach saturation, unit is Celsius\n",
    "- `SOLAR_RADIATION` - MJ/m2\n",
    "- `RAINFALL` - mm\n",
    "- `SNOWFALL` - cm\n"
   ]
  },
  {
   "cell_type": "markdown",
   "metadata": {},
   "source": [
    "Define a linear regression model specification.\n"
   ]
  },
  {
   "cell_type": "code",
   "execution_count": 6,
   "metadata": {
    "tags": []
   },
   "outputs": [],
   "source": [
    "# Use `linear_reg()` with engine `lm` and mode `regression`\n",
    "lm_spec_weather <- linear_reg() %>%\n",
    "  set_engine(\"lm\", mode = \"regression\")"
   ]
  },
  {
   "cell_type": "markdown",
   "metadata": {},
   "source": [
    "Fit a model with the response variable `RENTED_BIKE_COUNT` and predictor variables `TEMPERATURE + HUMIDITY + WIND_SPEED + VISIBILITY + DEW_POINT_TEMPERATURE + SOLAR_RADIATION + RAINFALL + SNOWFALL`\n"
   ]
  },
  {
   "cell_type": "code",
   "execution_count": 9,
   "metadata": {
    "tags": []
   },
   "outputs": [
    {
     "name": "stderr",
     "output_type": "stream",
     "text": [
      "Warning message:\n",
      "“Engine set to `{object$engine}`.”"
     ]
    }
   ],
   "source": [
    "# Fit the model called `lm_model_weather`\n",
    "lm_spec_weather <- linear_reg()\n",
    "# RENTED_BIKE_COUNT ~ TEMPERATURE + HUMIDITY + WIND_SPEED + VISIBILITY + DEW_POINT_TEMPERATURE + SOLAR_RADIATION + RAINFALL + SNOWFALL,  with the training data\n",
    "lm_model_weather <- lm_spec_weather %>%\n",
    "  fit(RENTED_BIKE_COUNT ~ TEMPERATURE + HUMIDITY + WIND_SPEED + VISIBILITY + DEW_POINT_TEMPERATURE + SOLAR_RADIATION + RAINFALL + SNOWFALL, data = train_data)\n"
   ]
  },
  {
   "cell_type": "markdown",
   "metadata": {},
   "source": [
    "Print the fit summary for the `lm_model_weather` model.\n"
   ]
  },
  {
   "cell_type": "code",
   "execution_count": 10,
   "metadata": {
    "tags": []
   },
   "outputs": [
    {
     "name": "stdout",
     "output_type": "stream",
     "text": [
      "\n",
      "Call:\n",
      "stats::lm(formula = formula, data = data)\n",
      "\n",
      "Coefficients:\n",
      "          (Intercept)            TEMPERATURE               HUMIDITY  \n",
      "             195.4638              2132.3443              -994.4847  \n",
      "           WIND_SPEED             VISIBILITY  DEW_POINT_TEMPERATURE  \n",
      "             396.4619                -0.3847               -64.0776  \n",
      "      SOLAR_RADIATION               RAINFALL               SNOWFALL  \n",
      "            -402.8884             -1981.6728               320.5565  \n",
      "\n"
     ]
    }
   ],
   "source": [
    "print(lm_model_weather$fit)"
   ]
  },
  {
   "cell_type": "markdown",
   "metadata": {},
   "source": [
    "You should see the model details such as formula, residuals, and coefficients.\n"
   ]
  },
  {
   "cell_type": "markdown",
   "metadata": {},
   "source": [
    "# TASK: Build a linear regression model using all variables\n"
   ]
  },
  {
   "cell_type": "markdown",
   "metadata": {},
   "source": [
    "In addition to weather, there could be other factors that may affect bike rental demand, such as the time of a day or if today is a holiday or not.\n"
   ]
  },
  {
   "cell_type": "markdown",
   "metadata": {},
   "source": [
    "Next, let's build a linear regression model using all variables (weather + date/time) in this task.\n"
   ]
  },
  {
   "cell_type": "markdown",
   "metadata": {},
   "source": [
    "_TODO:_ Build a linear regression model called `lm_model_all` using all variables `RENTED_BIKE_COUNT ~ .`\n"
   ]
  },
  {
   "cell_type": "code",
   "execution_count": 11,
   "metadata": {
    "tags": []
   },
   "outputs": [
    {
     "name": "stderr",
     "output_type": "stream",
     "text": [
      "Warning message:\n",
      "“Engine set to `{object$engine}`.”"
     ]
    }
   ],
   "source": [
    "# Fit the model called `lm_model_all`\n",
    "# `RENTED_BIKE_COUNT ~ .` means use all other variables except for the response variable\n",
    "lm_spec_all <- linear_reg()\n",
    "lm_model_all <- lm_spec_all %>%\n",
    "  fit(RENTED_BIKE_COUNT ~ ., data = train_data)"
   ]
  },
  {
   "cell_type": "markdown",
   "metadata": {},
   "source": [
    "Print the fit summary for `lm_model_all`.\n"
   ]
  },
  {
   "cell_type": "code",
   "execution_count": 12,
   "metadata": {
    "tags": []
   },
   "outputs": [
    {
     "data": {
      "text/plain": [
       "\n",
       "Call:\n",
       "stats::lm(formula = formula, data = data)\n",
       "\n",
       "Residuals:\n",
       "     Min       1Q   Median       3Q      Max \n",
       "-1337.47  -220.49   -10.91   202.06  1818.76 \n",
       "\n",
       "Coefficients: (3 not defined because of singularities)\n",
       "                      Estimate Std. Error t value Pr(>|t|)    \n",
       "(Intercept)             298.37      51.58   5.785 7.61e-09 ***\n",
       "TEMPERATURE             508.85     215.33   2.363 0.018151 *  \n",
       "HUMIDITY              -1030.66     101.64 -10.140  < 2e-16 ***\n",
       "WIND_SPEED              -12.18      39.64  -0.307 0.758648    \n",
       "VISIBILITY               -2.17      19.89  -0.109 0.913119    \n",
       "DEW_POINT_TEMPERATURE   876.52     225.07   3.894 9.95e-05 ***\n",
       "SOLAR_RADIATION         289.01      40.69   7.102 1.36e-12 ***\n",
       "RAINFALL              -2306.84     154.76 -14.906  < 2e-16 ***\n",
       "SNOWFALL                250.93      97.68   2.569 0.010226 *  \n",
       "`0`                     -15.33      33.69  -0.455 0.649141    \n",
       "`1`                    -126.58      34.17  -3.704 0.000214 ***\n",
       "`10`                   -232.08      32.44  -7.154 9.39e-13 ***\n",
       "`11`                   -242.91      33.14  -7.329 2.61e-13 ***\n",
       "`12`                   -210.75      34.42  -6.122 9.78e-10 ***\n",
       "`13`                   -198.35      34.44  -5.760 8.80e-09 ***\n",
       "`14`                   -183.71      34.86  -5.270 1.41e-07 ***\n",
       "`15`                   -105.59      34.03  -3.103 0.001925 ** \n",
       "`16`                     30.24      33.70   0.897 0.369506    \n",
       "`17`                    322.55      33.54   9.616  < 2e-16 ***\n",
       "`18`                    719.46      33.94  21.200  < 2e-16 ***\n",
       "`19`                    518.04      34.31  15.098  < 2e-16 ***\n",
       "`2`                    -238.40      33.57  -7.102 1.37e-12 ***\n",
       "`20`                    402.13      34.08  11.798  < 2e-16 ***\n",
       "`21`                    457.32      33.80  13.530  < 2e-16 ***\n",
       "`22`                    343.51      33.48  10.262  < 2e-16 ***\n",
       "`23`                     89.28      33.44   2.669 0.007616 ** \n",
       "`3`                    -328.73      33.09  -9.936  < 2e-16 ***\n",
       "`4`                    -405.33      33.67 -12.039  < 2e-16 ***\n",
       "`5`                    -374.88      33.20 -11.291  < 2e-16 ***\n",
       "`6`                    -193.13      33.31  -5.798 7.06e-09 ***\n",
       "`7`                     107.09      32.90   3.255 0.001141 ** \n",
       "`8`                     467.74      32.95  14.194  < 2e-16 ***\n",
       "`9`                         NA         NA      NA       NA    \n",
       "AUTUMN                  368.76      19.80  18.625  < 2e-16 ***\n",
       "SPRING                  197.81      19.05  10.381  < 2e-16 ***\n",
       "SUMMER                  214.82      28.62   7.506 6.94e-14 ***\n",
       "WINTER                      NA         NA      NA       NA    \n",
       "HOLIDAY                -125.41      21.76  -5.763 8.64e-09 ***\n",
       "NO_HOLIDAY                  NA         NA      NA       NA    \n",
       "---\n",
       "Signif. codes:  0 ‘***’ 0.001 ‘**’ 0.01 ‘*’ 0.05 ‘.’ 0.1 ‘ ’ 1\n",
       "\n",
       "Residual standard error: 371.9 on 6315 degrees of freedom\n",
       "Multiple R-squared:  0.6609,\tAdjusted R-squared:  0.6591 \n",
       "F-statistic: 351.7 on 35 and 6315 DF,  p-value: < 2.2e-16\n"
      ]
     },
     "metadata": {},
     "output_type": "display_data"
    }
   ],
   "source": [
    "summary(lm_model_all$fit)"
   ]
  },
  {
   "cell_type": "markdown",
   "metadata": {},
   "source": [
    "Now you have built two basic linear regression models with different predictor variables, let's evaluate which model has better performance,\n"
   ]
  },
  {
   "cell_type": "markdown",
   "metadata": {},
   "source": [
    "# TASK: Model evaluation and identification of important variables\n"
   ]
  },
  {
   "cell_type": "markdown",
   "metadata": {},
   "source": [
    "Now that you have built two regression models, `lm_model_weather` and `lm_model_all`, with different predictor variables, you need to compare their performance to see which one is better.\n"
   ]
  },
  {
   "cell_type": "markdown",
   "metadata": {},
   "source": [
    "In this project, you will be asked to use very important metrics that are often used in Statistics to determine the performance of a model:\n",
    "\n",
    "1.  R^2 / R-squared \n",
    "2.  Root Mean Squared Error (RMSE)\n",
    "\n",
    "**R-squared**\n",
    "\n",
    "<p>R squared, also known as the coefficient of determination, is a measure to indicate how close the data is to the fitted regression line. The value of R-squared is the percentage of variation of the response variable (y) that is explained by a linear model.</p>\n",
    "\n",
    "**Root Mean Squared Error (RMSE)**\n",
    "$$\n",
    "RMSE = \\sqrt{MSE}\n",
    "$$\n",
    "\n",
    "As you know, the Mean Squared Error measures the average of the squares of errors, where 'error' is the difference between the actual value ($y$) and the estimated value ($ŷ$). \n",
    "Another metric that is related to MSE is **Root Mean Squared Error (RMSE)** and is simply the square root of MSE.\n"
   ]
  },
  {
   "cell_type": "markdown",
   "metadata": {},
   "source": [
    "We first need to test the `lm_model_weather` and `lm_model_all` models against the test dataset `test_data`, and generate `RENTED_BIKE_COUNT` prediction results.\n"
   ]
  },
  {
   "cell_type": "markdown",
   "metadata": {},
   "source": [
    "_TODO:_ Make predictions on the testing dataset using both `lm_model_weather` and `lm_model_all` models\n"
   ]
  },
  {
   "cell_type": "code",
   "execution_count": 14,
   "metadata": {
    "tags": []
   },
   "outputs": [
    {
     "name": "stderr",
     "output_type": "stream",
     "text": [
      "Warning message in predict.lm(object = object$fit, newdata = new_data, type = \"response\"):\n",
      "“prediction from a rank-deficient fit may be misleading”"
     ]
    }
   ],
   "source": [
    "# Use predict() function to generate test results for `lm_model_weather` and `lm_model_all`\n",
    "# and generate two test results dataframe with a truth column:\n",
    "\n",
    "# Make predictions on the testing dataset using lm_model_weather\n",
    "test_results_weather <- test_data %>%\n",
    "  select(RENTED_BIKE_COUNT) %>%\n",
    "  bind_cols(prediction = predict(lm_model_weather, new_data = test_data))\n",
    "\n",
    "# Make predictions on the testing dataset using lm_model_all\n",
    "test_results_all <- test_data %>%\n",
    "  select(RENTED_BIKE_COUNT) %>%\n",
    "  bind_cols(prediction = predict(lm_model_all, new_data = test_data))"
   ]
  },
  {
   "cell_type": "markdown",
   "metadata": {},
   "source": [
    "NOTE: if you happen to see a warning like : `prediction from a rank-deficient fit may be misleading`, it may be casued by collinearity in the predictor variables. Collinearity means that one predictor variable can be predicted from other predictor variables to some degree. For example, `RAINFALL` could be predicted by `HUMIDITY`.\n",
    "\n",
    "But dont worry, you will address `glmnet` models (Lasso and Elastic-Net Regularized Generalized Linear Models) instead of regular `regression` models to solve this issue and futher improve the model performance.\n"
   ]
  },
  {
   "cell_type": "markdown",
   "metadata": {},
   "source": [
    "Next, let's calculate and print the R-squared and RMSE for the two test results\n"
   ]
  },
  {
   "cell_type": "markdown",
   "metadata": {},
   "source": [
    "_TODO:_ Use `rsq()` and `rmse()` functions to calculate R-squared and RMSE metrics for the two test results\n"
   ]
  },
  {
   "cell_type": "code",
   "execution_count": 16,
   "metadata": {
    "tags": []
   },
   "outputs": [
    {
     "name": "stdout",
     "output_type": "stream",
     "text": [
      "[1] \"R-squared for lm_model_weather:\"\n",
      "# A tibble: 1 x 3\n",
      "  .metric .estimator .estimate\n",
      "  <chr>   <chr>          <dbl>\n",
      "1 rsq     standard       0.424\n",
      "[1] \"RMSE for lm_model_weather:\"\n",
      "# A tibble: 1 x 3\n",
      "  .metric .estimator .estimate\n",
      "  <chr>   <chr>          <dbl>\n",
      "1 rmse    standard        500.\n",
      "[1] \"R-squared for lm_model_all:\"\n",
      "# A tibble: 1 x 3\n",
      "  .metric .estimator .estimate\n",
      "  <chr>   <chr>          <dbl>\n",
      "1 rsq     standard       0.662\n",
      "[1] \"RMSE for lm_model_all:\"\n",
      "# A tibble: 1 x 3\n",
      "  .metric .estimator .estimate\n",
      "  <chr>   <chr>          <dbl>\n",
      "1 rmse    standard        383.\n"
     ]
    }
   ],
   "source": [
    "# Calculate R-squared for lm_model_weather and lm_model_all\n",
    "rsq_weather <- rsq(test_results_weather, truth = RENTED_BIKE_COUNT, estimate = .pred)\n",
    "rsq_all <- rsq(test_results_all, truth = RENTED_BIKE_COUNT, estimate = .pred)\n",
    "\n",
    "# Calculate RMSE for lm_model_weather and lm_model_all\n",
    "rmse_weather <- rmse(test_results_weather, truth = RENTED_BIKE_COUNT, estimate = .pred)\n",
    "rmse_all <- rmse(test_results_all, truth = RENTED_BIKE_COUNT, estimate = .pred)\n",
    "\n",
    "# Print R-squared and RMSE for lm_model_weather and lm_model_all\n",
    "print(\"R-squared for lm_model_weather:\")\n",
    "print(rsq_weather)\n",
    "print(\"RMSE for lm_model_weather:\")\n",
    "print(rmse_weather)\n",
    "\n",
    "print(\"R-squared for lm_model_all:\")\n",
    "print(rsq_all)\n",
    "print(\"RMSE for lm_model_all:\")\n",
    "print(rmse_all)"
   ]
  },
  {
   "cell_type": "markdown",
   "metadata": {},
   "source": [
    "From these tables, you should find that the test results from `lm_model_all` are much better. It means that using both weather and datetime variables in the model generates better prediction results.\n"
   ]
  },
  {
   "cell_type": "markdown",
   "metadata": {},
   "source": [
    "Since `lm_model_all` has many predictor variables, let's check which predictor variables have larger coefficients. Variables with larger coefficients in the model means they attribute more in the prediction of `RENTED_BIKE_COUNT`. In addition, since all predictor variables are normalized to the same scale, 0 to 1, we thus can compare their coefficients directly.\n"
   ]
  },
  {
   "cell_type": "markdown",
   "metadata": {},
   "source": [
    "You could try building another regression model using the non-normalized `seoul_bike_sharing_converted.csv` dataset, and you would find that the coefficients are much different.\n"
   ]
  },
  {
   "cell_type": "markdown",
   "metadata": {},
   "source": [
    "First let's print all coefficients:\n"
   ]
  },
  {
   "cell_type": "code",
   "execution_count": 17,
   "metadata": {
    "tags": []
   },
   "outputs": [
    {
     "data": {
      "text/html": [
       "<style>\n",
       ".dl-inline {width: auto; margin:0; padding: 0}\n",
       ".dl-inline>dt, .dl-inline>dd {float: none; width: auto; display: inline-block}\n",
       ".dl-inline>dt::after {content: \":\\0020\"; padding-right: .5ex}\n",
       ".dl-inline>dt:not(:first-of-type) {padding-left: .5ex}\n",
       "</style><dl class=dl-inline><dt>(Intercept)</dt><dd>298.365740042299</dd><dt>TEMPERATURE</dt><dd>508.854146314828</dd><dt>HUMIDITY</dt><dd>-1030.66419021615</dd><dt>WIND_SPEED</dt><dd>-12.1808428582864</dd><dt>VISIBILITY</dt><dd>-2.17010262564631</dd><dt>DEW_POINT_TEMPERATURE</dt><dd>876.524919280562</dd><dt>SOLAR_RADIATION</dt><dd>289.010993917348</dd><dt>RAINFALL</dt><dd>-2306.845186806</dd><dt>SNOWFALL</dt><dd>250.927224680209</dd><dt>`0`</dt><dd>-15.3257532600007</dd><dt>`1`</dt><dd>-126.57917815818</dd><dt>`10`</dt><dd>-232.078117228913</dd><dt>`11`</dt><dd>-242.904527311128</dd><dt>`12`</dt><dd>-210.748563437495</dd><dt>`13`</dt><dd>-198.350874901581</dd><dt>`14`</dt><dd>-183.70515999157</dd><dt>`15`</dt><dd>-105.58611136128</dd><dt>`16`</dt><dd>30.2408416163358</dd><dt>`17`</dt><dd>322.547935892501</dd><dt>`18`</dt><dd>719.457705252588</dd><dt>`19`</dt><dd>518.042205623335</dd><dt>`2`</dt><dd>-238.402343396397</dd><dt>`20`</dt><dd>402.127761116019</dd><dt>`21`</dt><dd>457.321412007198</dd><dt>`22`</dt><dd>343.508373325967</dd><dt>`23`</dt><dd>89.2780255506428</dd><dt>`3`</dt><dd>-328.728439783818</dd><dt>`4`</dt><dd>-405.326351355608</dd><dt>`5`</dt><dd>-374.881932150412</dd><dt>`6`</dt><dd>-193.13000669313</dd><dt>`7`</dt><dd>107.086248012087</dd><dt>`8`</dt><dd>467.74325928306</dd><dt>`9`</dt><dd>&lt;NA&gt;</dd><dt>AUTUMN</dt><dd>368.76276384269</dd><dt>SPRING</dt><dd>197.810397364832</dd><dt>SUMMER</dt><dd>214.819724108715</dd><dt>WINTER</dt><dd>&lt;NA&gt;</dd><dt>HOLIDAY</dt><dd>-125.410807733186</dd><dt>NO_HOLIDAY</dt><dd>&lt;NA&gt;</dd></dl>\n"
      ],
      "text/latex": [
       "\\begin{description*}\n",
       "\\item[(Intercept)] 298.365740042299\n",
       "\\item[TEMPERATURE] 508.854146314828\n",
       "\\item[HUMIDITY] -1030.66419021615\n",
       "\\item[WIND\\textbackslash{}\\_SPEED] -12.1808428582864\n",
       "\\item[VISIBILITY] -2.17010262564631\n",
       "\\item[DEW\\textbackslash{}\\_POINT\\textbackslash{}\\_TEMPERATURE] 876.524919280562\n",
       "\\item[SOLAR\\textbackslash{}\\_RADIATION] 289.010993917348\n",
       "\\item[RAINFALL] -2306.845186806\n",
       "\\item[SNOWFALL] 250.927224680209\n",
       "\\item[`0`] -15.3257532600007\n",
       "\\item[`1`] -126.57917815818\n",
       "\\item[`10`] -232.078117228913\n",
       "\\item[`11`] -242.904527311128\n",
       "\\item[`12`] -210.748563437495\n",
       "\\item[`13`] -198.350874901581\n",
       "\\item[`14`] -183.70515999157\n",
       "\\item[`15`] -105.58611136128\n",
       "\\item[`16`] 30.2408416163358\n",
       "\\item[`17`] 322.547935892501\n",
       "\\item[`18`] 719.457705252588\n",
       "\\item[`19`] 518.042205623335\n",
       "\\item[`2`] -238.402343396397\n",
       "\\item[`20`] 402.127761116019\n",
       "\\item[`21`] 457.321412007198\n",
       "\\item[`22`] 343.508373325967\n",
       "\\item[`23`] 89.2780255506428\n",
       "\\item[`3`] -328.728439783818\n",
       "\\item[`4`] -405.326351355608\n",
       "\\item[`5`] -374.881932150412\n",
       "\\item[`6`] -193.13000669313\n",
       "\\item[`7`] 107.086248012087\n",
       "\\item[`8`] 467.74325928306\n",
       "\\item[`9`] <NA>\n",
       "\\item[AUTUMN] 368.76276384269\n",
       "\\item[SPRING] 197.810397364832\n",
       "\\item[SUMMER] 214.819724108715\n",
       "\\item[WINTER] <NA>\n",
       "\\item[HOLIDAY] -125.410807733186\n",
       "\\item[NO\\textbackslash{}\\_HOLIDAY] <NA>\n",
       "\\end{description*}\n"
      ],
      "text/markdown": [
       "(Intercept)\n",
       ":   298.365740042299TEMPERATURE\n",
       ":   508.854146314828HUMIDITY\n",
       ":   -1030.66419021615WIND_SPEED\n",
       ":   -12.1808428582864VISIBILITY\n",
       ":   -2.17010262564631DEW_POINT_TEMPERATURE\n",
       ":   876.524919280562SOLAR_RADIATION\n",
       ":   289.010993917348RAINFALL\n",
       ":   -2306.845186806SNOWFALL\n",
       ":   250.927224680209`0`\n",
       ":   -15.3257532600007`1`\n",
       ":   -126.57917815818`10`\n",
       ":   -232.078117228913`11`\n",
       ":   -242.904527311128`12`\n",
       ":   -210.748563437495`13`\n",
       ":   -198.350874901581`14`\n",
       ":   -183.70515999157`15`\n",
       ":   -105.58611136128`16`\n",
       ":   30.2408416163358`17`\n",
       ":   322.547935892501`18`\n",
       ":   719.457705252588`19`\n",
       ":   518.042205623335`2`\n",
       ":   -238.402343396397`20`\n",
       ":   402.127761116019`21`\n",
       ":   457.321412007198`22`\n",
       ":   343.508373325967`23`\n",
       ":   89.2780255506428`3`\n",
       ":   -328.728439783818`4`\n",
       ":   -405.326351355608`5`\n",
       ":   -374.881932150412`6`\n",
       ":   -193.13000669313`7`\n",
       ":   107.086248012087`8`\n",
       ":   467.74325928306`9`\n",
       ":   &lt;NA&gt;AUTUMN\n",
       ":   368.76276384269SPRING\n",
       ":   197.810397364832SUMMER\n",
       ":   214.819724108715WINTER\n",
       ":   &lt;NA&gt;HOLIDAY\n",
       ":   -125.410807733186NO_HOLIDAY\n",
       ":   &lt;NA&gt;\n",
       "\n"
      ],
      "text/plain": [
       "          (Intercept)           TEMPERATURE              HUMIDITY \n",
       "           298.365740            508.854146          -1030.664190 \n",
       "           WIND_SPEED            VISIBILITY DEW_POINT_TEMPERATURE \n",
       "           -12.180843             -2.170103            876.524919 \n",
       "      SOLAR_RADIATION              RAINFALL              SNOWFALL \n",
       "           289.010994          -2306.845187            250.927225 \n",
       "                  `0`                   `1`                  `10` \n",
       "           -15.325753           -126.579178           -232.078117 \n",
       "                 `11`                  `12`                  `13` \n",
       "          -242.904527           -210.748563           -198.350875 \n",
       "                 `14`                  `15`                  `16` \n",
       "          -183.705160           -105.586111             30.240842 \n",
       "                 `17`                  `18`                  `19` \n",
       "           322.547936            719.457705            518.042206 \n",
       "                  `2`                  `20`                  `21` \n",
       "          -238.402343            402.127761            457.321412 \n",
       "                 `22`                  `23`                   `3` \n",
       "           343.508373             89.278026           -328.728440 \n",
       "                  `4`                   `5`                   `6` \n",
       "          -405.326351           -374.881932           -193.130007 \n",
       "                  `7`                   `8`                   `9` \n",
       "           107.086248            467.743259                    NA \n",
       "               AUTUMN                SPRING                SUMMER \n",
       "           368.762764            197.810397            214.819724 \n",
       "               WINTER               HOLIDAY            NO_HOLIDAY \n",
       "                   NA           -125.410808                    NA "
      ]
     },
     "metadata": {},
     "output_type": "display_data"
    }
   ],
   "source": [
    "lm_model_all$fit$coefficients"
   ]
  },
  {
   "cell_type": "markdown",
   "metadata": {},
   "source": [
    "hmm, it's not very clear to compare the coefficients from a long and unsorted list. Next, you need to sort and visualize them using a bar chart\n"
   ]
  },
  {
   "cell_type": "markdown",
   "metadata": {},
   "source": [
    "_TODO:_ Sort the coefficient list in descending order and visualize the result using `ggplot` and `geom_bar` \n"
   ]
  },
  {
   "cell_type": "code",
   "execution_count": 19,
   "metadata": {
    "tags": []
   },
   "outputs": [],
   "source": [
    "# Sort coefficient list\n",
    "coefs <- lm_model_all$fit$coefficients %>%\n",
    "  as.data.frame() %>%\n",
    "  rownames_to_column(var = \"variable\") %>%\n",
    "  rename(coefficient = \".\")\n",
    "\n",
    "coefs_sorted <- coefs %>%\n",
    "  arrange(desc(coefficient))"
   ]
  },
  {
   "cell_type": "code",
   "execution_count": 20,
   "metadata": {
    "tags": []
   },
   "outputs": [
    {
     "name": "stderr",
     "output_type": "stream",
     "text": [
      "Warning message:\n",
      "“Removed 3 rows containing missing values (position_stack).”"
     ]
    },
    {
     "data": {},
     "metadata": {},
     "output_type": "display_data"
    },
    {
     "data": {
      "image/png": "[encoded data removed]",
      "text/plain": [
       "plot without title"
      ]
     },
     "metadata": {},
     "output_type": "display_data",
     "source": "R display func"
    }
   ],
   "source": [
    "# Visualize the list using ggplot and geom_bar\n",
    "ggplot(coefs_sorted, aes(x = variable, y = coefficient)) +\n",
    "  geom_bar(stat = \"identity\", fill = \"steelblue\") +\n",
    "  labs(title = \"Coefficients of Predictor Variables in lm_model_all\",\n",
    "       x = \"Variable\", y = \"Coefficient\") +\n",
    "  theme(axis.text.x = element_text(angle = 90, vjust = 0.5, hjust = 1))"
   ]
  },
  {
   "cell_type": "markdown",
   "metadata": {},
   "source": [
    "Mark down these 'top-ranked variables by coefficient', which will be used for model refinments in the next labs.\n"
   ]
  },
  {
   "cell_type": "markdown",
   "metadata": {},
   "source": [
    "Note that here the main reason we use absolute value is to easily identify important variables, i.e. variables with large magnitudes, no matter it's negative or positive. If we want to interprete the model then it's better to seperate the positive and negative coefficients.\n"
   ]
  },
  {
   "cell_type": "markdown",
   "metadata": {},
   "source": [
    "# Next Steps\n"
   ]
  },
  {
   "cell_type": "markdown",
   "metadata": {},
   "source": [
    "Great! Now you have built a baseline linear regression model to predict hourly bike rent count, with reasonably good performance. In the next lab, you will be refining the baseline model to improve its performance.\n"
   ]
  },
  {
   "cell_type": "markdown",
   "metadata": {},
   "source": [
    "## Authors\n",
    "\n",
    "<a href=\"https://www.linkedin.com/in/yan-luo-96288783/\" target=\"_blank\">Yan Luo</a>\n"
   ]
  },
  {
   "cell_type": "markdown",
   "metadata": {},
   "source": [
    "### Other Contributors\n",
    "\n",
    "Jeff Grossman\n"
   ]
  },
  {
   "cell_type": "markdown",
   "metadata": {},
   "source": [
    "## Change Log\n",
    "\n",
    "| Date (YYYY-MM-DD) | Version | Changed By | Change Description           |\n",
    "| ----------------- | ------- | ---------- | ---------------------------- |\n",
    "| 2021-04-08        | 1.0     | Yan        | Initial version created      |\n",
    "|                   |         |            |                              |\n",
    "|                   |         |            |                              |\n",
    "\n",
    "## <h3 align=\"center\"> © IBM Corporation 2021. All rights reserved. <h3/>\n"
   ]
  }
 ],
 "metadata": {
  "kernelspec": {
   "display_name": "R",
   "language": "R",
   "name": "conda-env-r-r"
  },
  "language_info": {
   "codemirror_mode": "r",
   "file_extension": ".r",
   "mimetype": "text/x-r-source",
   "name": "R",
   "pygments_lexer": "r",
   "version": "3.5.1"
  }
 },
 "nbformat": 4,
 "nbformat_minor": 4
}
